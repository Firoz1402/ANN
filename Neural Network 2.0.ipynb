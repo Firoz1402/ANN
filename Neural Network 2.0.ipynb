{
 "cells": [
  {
   "cell_type": "code",
   "execution_count": 1,
   "id": "d65bf54e",
   "metadata": {},
   "outputs": [],
   "source": [
    "import numpy as np\n",
    "import pandas as pd\n",
    "from matplotlib import pyplot as plt\n",
    "import os\n",
    "import cv2\n",
    "from PIL import Image\n",
    "from sklearn.metrics import accuracy_score, f1_score,classification_report\n",
    "from sklearn.utils import shuffle\n",
    "import sys"
   ]
  },
  {
   "cell_type": "code",
   "execution_count": 2,
   "id": "972ddce1",
   "metadata": {},
   "outputs": [],
   "source": [
    "\n",
    "def load_and_preprocess_images(dataset_folder, image_size=(128, 128)):\n",
    "    image_data = []\n",
    "    labels = []\n",
    "\n",
    "    for data_type in [\"train\", \"test\"]:\n",
    "        data_folder = os.path.join(dataset_folder, data_type)\n",
    "\n",
    "        for label_idx, label_name in enumerate(os.listdir(data_folder)):\n",
    "            label_folder = os.path.join(data_folder, label_name)\n",
    "\n",
    "            for image_filename in os.listdir(label_folder):\n",
    "                image_path = os.path.join(label_folder, image_filename)\n",
    "                image = cv2.imread(image_path, cv2.IMREAD_GRAYSCALE)  # Load as grayscale\n",
    "                \n",
    "                # Check if the image was loaded successfully\n",
    "                if image is None:\n",
    "                    print(f\"Failed to load image: {image_path}\")\n",
    "                    continue\n",
    "                \n",
    "                # Resize the image to the desired size (128x128 pixels)\n",
    "                image = cv2.resize(image, image_size)\n",
    "                image = image.flatten()  # Flatten the image\n",
    "                image_data.append(image)\n",
    "                labels.append(label_name)\n",
    "\n",
    "    return np.array(image_data), np.array(labels)"
   ]
  },
  {
   "cell_type": "code",
   "execution_count": 3,
   "id": "b05ffee1",
   "metadata": {},
   "outputs": [
    {
     "name": "stdout",
     "output_type": "stream",
     "text": [
      "Dataset saved to dataset.csv.\n"
     ]
    }
   ],
   "source": [
    "dataset_folder = \"Dataset\"\n",
    "\n",
    "# Load and preprocess images\n",
    "X, y = load_and_preprocess_images(dataset_folder)\n",
    "\n",
    "# Shuffle the dataset\n",
    "X, y = shuffle(X, y, random_state=42)\n",
    "\n",
    "# Create a DataFrame for the pixel values and labels\n",
    "data = pd.DataFrame(X)\n",
    "data.insert(0, \"label\", y) \n",
    "\n",
    "# Save the DataFrame to a CSV file\n",
    "csv_filename = \"dataset.csv\"\n",
    "data.to_csv(csv_filename, index=False)\n",
    "\n",
    "print(f\"Dataset saved to {csv_filename}.\")\n",
    "\n",
    "\n",
    "\n",
    "\n",
    "\n"
   ]
  },
  {
   "cell_type": "code",
   "execution_count": 2,
   "id": "b4c24587",
   "metadata": {},
   "outputs": [],
   "source": [
    "data = pd.read_csv(\"dataset.csv\")\n",
    "from sklearn.preprocessing import LabelEncoder\n",
    "from sklearn.model_selection import train_test_split\n",
    "\n",
    "# Encode labels\n",
    "label_encoder = LabelEncoder()\n",
    "data['label'] = label_encoder.fit_transform(data['label'])"
   ]
  },
  {
   "cell_type": "code",
   "execution_count": 3,
   "id": "c224e47e",
   "metadata": {},
   "outputs": [
    {
     "name": "stdout",
     "output_type": "stream",
     "text": [
      "<class 'pandas.core.frame.DataFrame'>\n",
      "RangeIndex: 5856 entries, 0 to 5855\n",
      "Columns: 16385 entries, label to 16383\n",
      "dtypes: int64(16385)\n",
      "memory usage: 732.0 MB\n"
     ]
    }
   ],
   "source": [
    "data.info()"
   ]
  },
  {
   "cell_type": "code",
   "execution_count": 4,
   "id": "92c0ecae",
   "metadata": {},
   "outputs": [],
   "source": [
    "# Extract features (pixel values) and labels\n",
    "X = data.iloc[:, 1:].values  # Features (pixel values)\n",
    "y = data.iloc[:, 0].values   # Labels\n",
    "# Split the dataset into training and testing sets\n",
    "X_train, X_test, y_train, y_test = train_test_split(X, y, test_size=0.2, random_state=42)\n",
    "# Normalize the pixel values (scaling to the range [0, 1])\n",
    "X_train = X_train / 255.0\n",
    "X_test = X_test / 255.0\n"
   ]
  },
  {
   "cell_type": "code",
   "execution_count": 5,
   "id": "38dc7e3e",
   "metadata": {},
   "outputs": [],
   "source": [
    "input_size = X_train.shape[1]\n",
    "hidden_size = 128\n",
    "output_size = len(np.unique(y_train))"
   ]
  },
  {
   "cell_type": "code",
   "execution_count": 6,
   "id": "9766b420",
   "metadata": {},
   "outputs": [],
   "source": [
    "# Initialize weights and biases\n",
    "def init_params():\n",
    "    W1 = np.random.randn(hidden_size, input_size) * 0.01\n",
    "    b1 = np.zeros((hidden_size, 1))\n",
    "    W2 = np.random.randn(output_size, hidden_size) * 0.01\n",
    "    b2 = np.zeros((output_size, 1))\n",
    "    return W1, b1, W2, b2"
   ]
  },
  {
   "cell_type": "code",
   "execution_count": 7,
   "id": "2cda6465",
   "metadata": {},
   "outputs": [],
   "source": [
    "# Define the ReLU activation function\n",
    "def relu(Z):\n",
    "    return np.maximum(0, Z)\n",
    "\n",
    "# Define the softmax activation function\n",
    "def softmax(Z):\n",
    "    exp_Z = np.exp(Z - np.max(Z))  # Subtracting max(Z) for numerical stability\n",
    "    return exp_Z / exp_Z.sum(axis=0, keepdims=True)"
   ]
  },
  {
   "cell_type": "code",
   "execution_count": 8,
   "id": "16604315",
   "metadata": {},
   "outputs": [],
   "source": [
    "# Forward propagation\n",
    "def forward_propagation(X, W1, b1, W2, b2):\n",
    "    Z1 = np.dot(W1, X) + b1\n",
    "    A1 = relu(Z1)\n",
    "    Z2 = np.dot(W2, A1) + b2\n",
    "    A2 = softmax(Z2)\n",
    "    return Z1, A1, Z2, A2\n",
    "\n",
    "# Compute the cross-entropy loss\n",
    "def compute_loss(A2, y):\n",
    "    m = y.shape[0]\n",
    "    logprobs = -np.log(A2[y, range(m)])\n",
    "    loss = np.sum(logprobs) / m\n",
    "    return loss"
   ]
  },
  {
   "cell_type": "code",
   "execution_count": 9,
   "id": "9e475460",
   "metadata": {},
   "outputs": [],
   "source": [
    "# Backpropagation\n",
    "def backward_propagation(X, y, Z1, A1, Z2, A2, W1, W2, b1, b2):\n",
    "    m = X.shape[1]\n",
    "    one_hot_Y = np.zeros((output_size, m))\n",
    "    one_hot_Y[y, range(m)] = 1\n",
    "    \n",
    "    dZ2 = A2 - one_hot_Y\n",
    "    dW2 = np.dot(dZ2, A1.T) / m\n",
    "    db2 = np.sum(dZ2, axis=1, keepdims=True) / m\n",
    "    \n",
    "    dA1 = np.dot(W2.T, dZ2)\n",
    "    dZ1 = dA1 * (Z1 > 0)\n",
    "    dW1 = np.dot(dZ1, X.T) / m\n",
    "    db1 = np.sum(dZ1, axis=1, keepdims=True) / m\n",
    "    \n",
    "    return dW1, db1, dW2, db2"
   ]
  },
  {
   "cell_type": "code",
   "execution_count": 10,
   "id": "b34bc75b",
   "metadata": {},
   "outputs": [],
   "source": [
    "# Update parameters using gradient descent\n",
    "def update_parameters(W1, b1, W2, b2, dW1, db1, dW2, db2, learning_rate):\n",
    "    W1 -= learning_rate * dW1\n",
    "    b1 -= learning_rate * db1\n",
    "    W2 -= learning_rate * dW2\n",
    "    b2 -= learning_rate * db2\n",
    "    return W1, b1, W2, b2\n"
   ]
  },
  {
   "cell_type": "code",
   "execution_count": 11,
   "id": "d44df30a",
   "metadata": {},
   "outputs": [],
   "source": [
    "# Training the neural network\n",
    "def train_neural_network(X_train, y_train, hidden_size, output_size, learning_rate, num_epochs):\n",
    "    W1, b1, W2, b2 = init_params()\n",
    "    costs = []\n",
    "    \n",
    "    for epoch in range(num_epochs):\n",
    "        # Forward propagation\n",
    "        Z1, A1, Z2, A2 = forward_propagation(X_train, W1, b1, W2, b2)\n",
    "        \n",
    "        # Compute cost\n",
    "        cost = compute_loss(A2, y_train)\n",
    "        \n",
    "        # Backpropagation\n",
    "        dW1, db1, dW2, db2 = backward_propagation(X_train, y_train, Z1, A1, Z2, A2, W1, W2, b1, b2)\n",
    "        \n",
    "        # Update parameters\n",
    "        W1, b1, W2, b2 = update_parameters(W1, b1, W2, b2, dW1, db1, dW2, db2, learning_rate)\n",
    "        \n",
    "        # Print cost for every 10 epochs\n",
    "        if epoch % 10 == 0:\n",
    "            print(f\"Epoch {epoch}: Cost = {cost:.4f}\")\n",
    "        \n",
    "        costs.append(cost)\n",
    "    \n",
    "    # Plot the cost curve\n",
    "    plt.plot(costs)\n",
    "    plt.xlabel(\"Epochs\")\n",
    "    plt.ylabel(\"Cost\")\n",
    "    plt.title(\"Cost Curve\")\n",
    "    plt.show()\n",
    "    \n",
    "    return W1, b1, W2, b2\n"
   ]
  },
  {
   "cell_type": "code",
   "execution_count": 12,
   "id": "36465423",
   "metadata": {},
   "outputs": [
    {
     "name": "stdout",
     "output_type": "stream",
     "text": [
      "Epoch 0: Cost = 0.6805\n",
      "Epoch 10: Cost = 0.5798\n",
      "Epoch 20: Cost = 0.5703\n",
      "Epoch 30: Cost = 0.5588\n",
      "Epoch 40: Cost = 0.5443\n",
      "Epoch 50: Cost = 0.5259\n",
      "Epoch 60: Cost = 0.5027\n",
      "Epoch 70: Cost = 0.4748\n",
      "Epoch 80: Cost = 0.4433\n",
      "Epoch 90: Cost = 0.4106\n",
      "Epoch 100: Cost = 0.3794\n",
      "Epoch 110: Cost = 0.3514\n",
      "Epoch 120: Cost = 0.3277\n",
      "Epoch 130: Cost = 0.4474\n",
      "Epoch 140: Cost = 0.3956\n",
      "Epoch 150: Cost = 0.3647\n",
      "Epoch 160: Cost = 0.3524\n",
      "Epoch 170: Cost = 0.3430\n",
      "Epoch 180: Cost = 0.3335\n",
      "Epoch 190: Cost = 0.3248\n"
     ]
    },
    {
     "data": {
      "image/png": "[encoded data removed]",
      "text/plain": [
       "<Figure size 640x480 with 1 Axes>"
      ]
     },
     "metadata": {},
     "output_type": "display_data"
    }
   ],
   "source": [
    "# Train the neural network\n",
    "trained_W1, trained_b1, trained_W2, trained_b2 = train_neural_network(\n",
    "    X_train.T, y_train, hidden_size, output_size, learning_rate=0.01, num_epochs=200)"
   ]
  },
  {
   "cell_type": "code",
   "execution_count": 15,
   "id": "4b8c84f6",
   "metadata": {},
   "outputs": [],
   "source": [
    "# Evaluate the neural network on the test set\n",
    "def evaluate_neural_network(X_test, y_test, W1, b1, W2, b2):\n",
    "    Z1, A1, Z2, A2 = forward_propagation(X_test, W1, b1, W2, b2)\n",
    "    predictions = np.argmax(A2, axis=0)\n",
    "    accuracy = accuracy_score(y_test, predictions)\n",
    "    f1 = f1_score(y_test, predictions)\n",
    "    clr = classification_report(y_test, predictions)\n",
    "    print(\"Accuracy:\", accuracy)\n",
    "    print(\"F1 Score:\", f1)\n",
    "    print(\"Classification Report:\\n\",clr)"
   ]
  },
  {
   "cell_type": "code",
   "execution_count": 16,
   "id": "0298c1be",
   "metadata": {},
   "outputs": [
    {
     "name": "stdout",
     "output_type": "stream",
     "text": [
      "Accuracy: 0.8660409556313993\n",
      "F1 Score: 0.9014438166980538\n",
      "Classification Report:\n",
      "               precision    recall  f1-score   support\n",
      "\n",
      "           0       0.71      0.90      0.79       330\n",
      "           1       0.96      0.85      0.90       842\n",
      "\n",
      "    accuracy                           0.87      1172\n",
      "   macro avg       0.83      0.88      0.85      1172\n",
      "weighted avg       0.89      0.87      0.87      1172\n",
      "\n"
     ]
    }
   ],
   "source": [
    "evaluate_neural_network(X_test.T, y_test, trained_W1, trained_b1, trained_W2, trained_b2)"
   ]
  },
  {
   "cell_type": "code",
   "execution_count": null,
   "id": "1303bd26",
   "metadata": {},
   "outputs": [],
   "source": []
  },
  {
   "cell_type": "code",
   "execution_count": null,
   "id": "0e56f7cb",
   "metadata": {},
   "outputs": [],
   "source": []
  }
 ],
 "metadata": {
  "kernelspec": {
   "display_name": "Python 3 (ipykernel)",
   "language": "python",
   "name": "python3"
  },
  "language_info": {
   "codemirror_mode": {
    "name": "ipython",
    "version": 3
   },
   "file_extension": ".py",
   "mimetype": "text/x-python",
   "name": "python",
   "nbconvert_exporter": "python",
   "pygments_lexer": "ipython3",
   "version": "3.7.5"
  }
 },
 "nbformat": 4,
 "nbformat_minor": 5
}
