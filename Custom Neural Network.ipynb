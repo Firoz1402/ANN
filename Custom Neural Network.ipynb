{
 "cells": [
  {
   "cell_type": "code",
   "execution_count": 1,
   "id": "4e89f20f",
   "metadata": {},
   "outputs": [],
   "source": [
    "import os\n",
    "import numpy as np\n",
    "from PIL import Image\n",
    "from sklearn.model_selection import train_test_split\n",
    "from sklearn.metrics import accuracy_score, f1_score"
   ]
  },
  {
   "cell_type": "code",
   "execution_count": 2,
   "id": "dc7ab105",
   "metadata": {},
   "outputs": [],
   "source": [
    "def load_and_preprocess_images(folder_path, image_size=(64, 64)):\n",
    "    image_data = []\n",
    "    labels = []\n",
    "\n",
    "    for label_idx, label_name in enumerate(os.listdir(folder_path)):\n",
    "        label_folder = os.path.join(folder_path, label_name)\n",
    "        \n",
    "        for image_filename in os.listdir(label_folder):\n",
    "            image_path = os.path.join(label_folder, image_filename)\n",
    "            image = Image.open(image_path).convert('L')  # Convert to grayscale\n",
    "            image = image.resize(image_size)\n",
    "            image = np.array(image) / 255.0  # Normalize pixel values\n",
    "            image_data.append(image)\n",
    "            labels.append(label_idx)\n",
    "\n",
    "    return np.array(image_data), np.array(labels)"
   ]
  },
  {
   "cell_type": "code",
   "execution_count": 3,
   "id": "cd7f59f7",
   "metadata": {},
   "outputs": [],
   "source": [
    "dataset_folder = \"Dataset\""
   ]
  },
  {
   "cell_type": "code",
   "execution_count": 4,
   "id": "feaaa67d",
   "metadata": {},
   "outputs": [],
   "source": [
    "X, y = load_and_preprocess_images(dataset_folder)"
   ]
  },
  {
   "cell_type": "code",
   "execution_count": 5,
   "id": "0fd47a07",
   "metadata": {},
   "outputs": [],
   "source": [
    "X_train, X_test, y_train, y_test = train_test_split(X, y, test_size=0.2, random_state=42)"
   ]
  },
  {
   "cell_type": "code",
   "execution_count": 6,
   "id": "bb55a965",
   "metadata": {},
   "outputs": [],
   "source": [
    "input_size = X_train.shape[1] * X_train.shape[2]\n",
    "hidden_size = 64\n",
    "output_size = 3\n",
    "learning_rate = 0.01\n",
    "num_epochs = 1000"
   ]
  },
  {
   "cell_type": "code",
   "execution_count": 7,
   "id": "24ce3e2f",
   "metadata": {},
   "outputs": [],
   "source": [
    "np.random.seed(42)\n",
    "weights_input_hidden = np.random.randn(input_size, hidden_size)\n",
    "bias_hidden = np.zeros((1, hidden_size))\n",
    "weights_hidden_output = np.random.randn(hidden_size, output_size)\n",
    "bias_output = np.zeros((1, output_size))"
   ]
  },
  {
   "cell_type": "code",
   "execution_count": 8,
   "id": "296251bf",
   "metadata": {},
   "outputs": [],
   "source": [
    "def sigmoid(x):\n",
    "    return 1 / (1 + np.exp(-x))\n"
   ]
  },
  {
   "cell_type": "code",
   "execution_count": 9,
   "id": "c7153a4d",
   "metadata": {},
   "outputs": [
    {
     "name": "stdout",
     "output_type": "stream",
     "text": [
      "Epoch 0, Loss: 2.5599\n",
      "Epoch 100, Loss: 2.5704\n",
      "Epoch 200, Loss: 2.5824\n",
      "Epoch 300, Loss: 2.5921\n",
      "Epoch 400, Loss: 2.6014\n",
      "Epoch 500, Loss: 2.6116\n",
      "Epoch 600, Loss: 2.6243\n",
      "Epoch 700, Loss: 2.6389\n",
      "Epoch 800, Loss: 2.6539\n",
      "Epoch 900, Loss: 2.6680\n"
     ]
    }
   ],
   "source": [
    "for epoch in range(num_epochs):\n",
    "    # Forward pass\n",
    "    hidden_layer_input = np.dot(X_train.reshape(-1, input_size), weights_input_hidden) + bias_hidden\n",
    "    hidden_layer_output = sigmoid(hidden_layer_input)\n",
    "    output_layer_input = np.dot(hidden_layer_output, weights_hidden_output) + bias_output\n",
    "    output_layer_output = sigmoid(output_layer_input)\n",
    "\n",
    "    # Compute loss (cross-entropy)\n",
    "    num_examples = len(X_train)\n",
    "    y_encoded = np.zeros((num_examples, output_size))\n",
    "    y_encoded[range(num_examples), y_train] = 1\n",
    "    loss = -np.sum(y_encoded * np.log(output_layer_output + 1e-9)) / num_examples\n",
    "\n",
    "    # Backpropagation\n",
    "    d_loss = (output_layer_output - y_encoded) / num_examples\n",
    "    d_output_layer = d_loss * output_layer_output * (1 - output_layer_output)\n",
    "    d_hidden_layer = np.dot(d_output_layer, weights_hidden_output.T) * hidden_layer_output * (1 - hidden_layer_output)\n",
    "\n",
    "    # Update weights and biases\n",
    "    weights_hidden_output -= learning_rate * np.dot(hidden_layer_output.T, d_output_layer)\n",
    "    bias_output -= learning_rate * np.sum(d_output_layer, axis=0, keepdims=True)\n",
    "    weights_input_hidden -= learning_rate * np.dot(X_train.reshape(-1, input_size).T, d_hidden_layer)\n",
    "    bias_hidden -= learning_rate * np.sum(d_hidden_layer, axis=0, keepdims=True)\n",
    "\n",
    "    if epoch % 100 == 0:\n",
    "        print(f\"Epoch {epoch}, Loss: {loss:.4f}\")\n"
   ]
  },
  {
   "cell_type": "code",
   "execution_count": 10,
   "id": "e97b392c",
   "metadata": {},
   "outputs": [],
   "source": [
    "hidden_layer_input = np.dot(X_test.reshape(-1, input_size), weights_input_hidden) + bias_hidden\n",
    "hidden_layer_output = sigmoid(hidden_layer_input)\n",
    "output_layer_input = np.dot(hidden_layer_output, weights_hidden_output) + bias_output\n",
    "output_layer_output = sigmoid(output_layer_input)\n"
   ]
  },
  {
   "cell_type": "code",
   "execution_count": 11,
   "id": "99fe58ad",
   "metadata": {},
   "outputs": [],
   "source": [
    "predictions = np.argmax(output_layer_output, axis=1)\n"
   ]
  },
  {
   "cell_type": "code",
   "execution_count": 12,
   "id": "984c170b",
   "metadata": {},
   "outputs": [],
   "source": [
    "accuracy = accuracy_score(y_test, predictions)\n",
    "f1_m = f1_score(y_test, predictions, average='macro')\n",
    "f1_w = f1_score(y_test, predictions, average='weighted')"
   ]
  },
  {
   "cell_type": "code",
   "execution_count": 13,
   "id": "eaa97f1d",
   "metadata": {},
   "outputs": [
    {
     "name": "stdout",
     "output_type": "stream",
     "text": [
      "Test Accuracy: 49.68%\n",
      "Macro F1 Score: 0.2768\n",
      "Weighted F1 Score: 0.4439\n"
     ]
    }
   ],
   "source": [
    "print(f\"Test Accuracy: {accuracy * 100:.2f}%\")\n",
    "print(f\"Macro F1 Score: {f1_m:.4f}\")\n",
    "print(f\"Weighted F1 Score: {f1_w:.4f}\")"
   ]
  },
  {
   "cell_type": "code",
   "execution_count": null,
   "id": "8dfe02c9",
   "metadata": {},
   "outputs": [],
   "source": []
  }
 ],
 "metadata": {
  "kernelspec": {
   "display_name": "Python 3 (ipykernel)",
   "language": "python",
   "name": "python3"
  },
  "language_info": {
   "codemirror_mode": {
    "name": "ipython",
    "version": 3
   },
   "file_extension": ".py",
   "mimetype": "text/x-python",
   "name": "python",
   "nbconvert_exporter": "python",
   "pygments_lexer": "ipython3",
   "version": "3.7.5"
  }
 },
 "nbformat": 4,
 "nbformat_minor": 5
}
