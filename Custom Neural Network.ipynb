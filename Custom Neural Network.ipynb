{
 "cells": [
  {
   "cell_type": "code",
   "execution_count": 1,
   "id": "4e89f20f",
   "metadata": {},
   "outputs": [],
   "source": [
    "import os\n",
    "import numpy as np\n",
    "from PIL import Image\n",
    "from sklearn.model_selection import train_test_split\n",
    "from sklearn.metrics import accuracy_score, f1_score"
   ]
  },
  {
   "cell_type": "code",
   "execution_count": 2,
   "id": "dc7ab105",
   "metadata": {},
   "outputs": [],
   "source": [
    "def load_and_preprocess_images(folder_path, image_size=(64, 64)):\n",
    "    image_data = []\n",
    "    labels = []\n",
    "\n",
    "    for label_idx, label_name in enumerate(os.listdir(folder_path)):\n",
    "        label_folder = os.path.join(folder_path, label_name)\n",
    "        \n",
    "        for image_filename in os.listdir(label_folder):\n",
    "            image_path = os.path.join(label_folder, image_filename)\n",
    "            image = Image.open(image_path).convert('L')  # Convert to grayscale\n",
    "            image = image.resize(image_size)\n",
    "            image = np.array(image) / 255.0  # Normalize pixel values\n",
    "            image_data.append(image)\n",
    "            labels.append(label_idx)\n",
    "\n",
    "    return np.array(image_data), np.array(labels)"
   ]
  },
  {
   "cell_type": "code",
   "execution_count": 3,
   "id": "cd7f59f7",
   "metadata": {},
   "outputs": [],
   "source": [
    "dataset_train = \"Dataset/train\"\n",
    "dataset_test = \"Dataset/test\""
   ]
  },
  {
   "cell_type": "code",
   "execution_count": 4,
   "id": "feaaa67d",
   "metadata": {},
   "outputs": [],
   "source": [
    "X_train, Y_train = load_and_preprocess_images(dataset_train)\n",
    "X_test, Y_test = load_and_preprocess_images(dataset_test)"
   ]
  },
  {
   "cell_type": "code",
   "execution_count": 8,
   "id": "0fd47a07",
   "metadata": {},
   "outputs": [],
   "source": [
    "import cv2\n",
    "import numpy as np\n",
    "\n",
    "# Function to perform data augmentation on a single image\n",
    "def augment_image(image):\n",
    "    # Randomly rotate the image by a small angle (-15 to +15 degrees)\n",
    "    angle = np.random.randint(-15, 16)\n",
    "    rows, cols = image.shape\n",
    "    rotation_matrix = cv2.getRotationMatrix2D((cols / 2, rows / 2), angle, 1)\n",
    "    image = cv2.warpAffine(image, rotation_matrix, (cols, rows))\n",
    "\n",
    "    # Randomly flip the image horizontally (50% chance)\n",
    "    if np.random.rand() > 0.5:\n",
    "        image = np.fliplr(image)\n",
    "\n",
    "    # Randomly adjust the brightness of the image\n",
    "    brightness_factor = 0.5 + np.random.rand()  # Range: [0.5, 1.5]\n",
    "    image = cv2.convertScaleAbs(image, alpha=brightness_factor, beta=0)\n",
    "\n",
    "    return image\n",
    "\n",
    "# Augment the images in X_train and update y_train\n",
    "augmented_X_train = []\n",
    "augmented_y_train = []  # Initialize an empty list for the labels\n",
    "for image, label in zip(X_train, Y_train):\n",
    "    augmented_image = augment_image(image)\n",
    "    augmented_X_train.append(augmented_image)\n",
    "    augmented_y_train.append(label)\n",
    "\n",
    "augmented_X_train = np.array(augmented_X_train)\n",
    "augmented_y_train = np.array(augmented_y_train)\n",
    "\n",
    "\n",
    "X_train = np.concatenate((X_train, augmented_X_train), axis=0)\n",
    "Y_train = np.concatenate((Y_train, augmented_y_train), axis=0)\n"
   ]
  },
  {
   "cell_type": "code",
   "execution_count": 9,
   "id": "bb55a965",
   "metadata": {},
   "outputs": [],
   "source": [
    "input_size = X_train.shape[1] * X_train.shape[2]\n",
    "hidden_size = 64\n",
    "output_size = 3\n",
    "learning_rate = 0.01\n",
    "num_epochs = 2000"
   ]
  },
  {
   "cell_type": "code",
   "execution_count": 10,
   "id": "24ce3e2f",
   "metadata": {},
   "outputs": [],
   "source": [
    "np.random.seed(42)\n",
    "weights_input_hidden = np.random.randn(input_size, hidden_size)\n",
    "bias_hidden = np.zeros((1, hidden_size))\n",
    "weights_hidden_output = np.random.randn(hidden_size, output_size)\n",
    "bias_output = np.zeros((1, output_size))"
   ]
  },
  {
   "cell_type": "code",
   "execution_count": 11,
   "id": "296251bf",
   "metadata": {},
   "outputs": [],
   "source": [
    "def sigmoid(x):\n",
    "    return 1 / (1 + np.exp(-x))\n"
   ]
  },
  {
   "cell_type": "code",
   "execution_count": 12,
   "id": "c7153a4d",
   "metadata": {},
   "outputs": [
    {
     "name": "stdout",
     "output_type": "stream",
     "text": [
      "Epoch 0, Loss: 0.7351\n",
      "Epoch 100, Loss: 0.8157\n",
      "Epoch 200, Loss: 0.8568\n",
      "Epoch 300, Loss: 0.8764\n",
      "Epoch 400, Loss: 0.8846\n",
      "Epoch 500, Loss: 0.8858\n",
      "Epoch 600, Loss: 0.8824\n",
      "Epoch 700, Loss: 0.8753\n",
      "Epoch 800, Loss: 0.8651\n",
      "Epoch 900, Loss: 0.8518\n",
      "Epoch 1000, Loss: 0.8357\n",
      "Epoch 1100, Loss: 0.8175\n",
      "Epoch 1200, Loss: 0.7983\n",
      "Epoch 1300, Loss: 0.7795\n",
      "Epoch 1400, Loss: 0.7620\n",
      "Epoch 1500, Loss: 0.7458\n",
      "Epoch 1600, Loss: 0.7312\n",
      "Epoch 1700, Loss: 0.7185\n",
      "Epoch 1800, Loss: 0.7078\n",
      "Epoch 1900, Loss: 0.6988\n"
     ]
    }
   ],
   "source": [
    "for epoch in range(num_epochs):\n",
    "    # Forward pass\n",
    "    hidden_layer_input = np.dot(X_train.reshape(-1, input_size), weights_input_hidden) + bias_hidden\n",
    "    hidden_layer_output = sigmoid(hidden_layer_input)\n",
    "    output_layer_input = np.dot(hidden_layer_output, weights_hidden_output) + bias_output\n",
    "    output_layer_output = sigmoid(output_layer_input)\n",
    "\n",
    "    # Compute loss (cross-entropy)\n",
    "    num_examples = len(X_train)\n",
    "    y_encoded = np.zeros((num_examples, output_size))\n",
    "    y_encoded[range(num_examples), Y_train] = 1\n",
    "    loss = -np.sum(y_encoded * np.log(output_layer_output + 1e-9)) / num_examples\n",
    "\n",
    "    # Backpropagation\n",
    "    d_loss = (output_layer_output - y_encoded) / num_examples\n",
    "    d_output_layer = d_loss * output_layer_output * (1 - output_layer_output)\n",
    "    d_hidden_layer = np.dot(d_output_layer, weights_hidden_output.T) * hidden_layer_output * (1 - hidden_layer_output)\n",
    "\n",
    "    # Update weights and biases\n",
    "    weights_hidden_output -= learning_rate * np.dot(hidden_layer_output.T, d_output_layer)\n",
    "    bias_output -= learning_rate * np.sum(d_output_layer, axis=0, keepdims=True)\n",
    "    weights_input_hidden -= learning_rate * np.dot(X_train.reshape(-1, input_size).T, d_hidden_layer)\n",
    "    bias_hidden -= learning_rate * np.sum(d_hidden_layer, axis=0, keepdims=True)\n",
    "\n",
    "    if epoch % 100 == 0:\n",
    "        print(f\"Epoch {epoch}, Loss: {loss:.4f}\")\n"
   ]
  },
  {
   "cell_type": "code",
   "execution_count": 13,
   "id": "e97b392c",
   "metadata": {},
   "outputs": [],
   "source": [
    "hidden_layer_input = np.dot(X_test.reshape(-1, input_size), weights_input_hidden) + bias_hidden\n",
    "hidden_layer_output = sigmoid(hidden_layer_input)\n",
    "output_layer_input = np.dot(hidden_layer_output, weights_hidden_output) + bias_output\n",
    "output_layer_output = sigmoid(output_layer_input)\n"
   ]
  },
  {
   "cell_type": "code",
   "execution_count": 14,
   "id": "99fe58ad",
   "metadata": {},
   "outputs": [],
   "source": [
    "predictions = np.argmax(output_layer_output, axis=1)\n"
   ]
  },
  {
   "cell_type": "code",
   "execution_count": 15,
   "id": "984c170b",
   "metadata": {},
   "outputs": [],
   "source": [
    "accuracy = accuracy_score(Y_test, predictions)\n",
    "f1_m = f1_score(Y_test, predictions, average='macro')\n",
    "f1_w = f1_score(Y_test, predictions, average='weighted')"
   ]
  },
  {
   "cell_type": "code",
   "execution_count": 16,
   "id": "eaa97f1d",
   "metadata": {},
   "outputs": [
    {
     "name": "stdout",
     "output_type": "stream",
     "text": [
      "Test Accuracy: 62.82%\n",
      "Macro F1 Score: 0.4127\n",
      "Weighted F1 Score: 0.5016\n"
     ]
    }
   ],
   "source": [
    "print(f\"Test Accuracy: {accuracy * 100:.2f}%\")\n",
    "print(f\"Macro F1 Score: {f1_m:.4f}\")\n",
    "print(f\"Weighted F1 Score: {f1_w:.4f}\")"
   ]
  },
  {
   "cell_type": "code",
   "execution_count": null,
   "id": "8dfe02c9",
   "metadata": {},
   "outputs": [],
   "source": []
  }
 ],
 "metadata": {
  "kernelspec": {
   "display_name": "Python 3 (ipykernel)",
   "language": "python",
   "name": "python3"
  },
  "language_info": {
   "codemirror_mode": {
    "name": "ipython",
    "version": 3
   },
   "file_extension": ".py",
   "mimetype": "text/x-python",
   "name": "python",
   "nbconvert_exporter": "python",
   "pygments_lexer": "ipython3",
   "version": "3.7.5"
  }
 },
 "nbformat": 4,
 "nbformat_minor": 5
}
