{
 "cells": [
  {
   "cell_type": "code",
   "execution_count": 1,
   "id": "cc9edcab",
   "metadata": {},
   "outputs": [
    {
     "name": "stderr",
     "output_type": "stream",
     "text": [
      "2023-09-23 18:33:01.911442: I tensorflow/core/platform/cpu_feature_guard.cc:193] This TensorFlow binary is optimized with oneAPI Deep Neural Network Library (oneDNN) to use the following CPU instructions in performance-critical operations:  AVX2 FMA\n",
      "To enable them in other operations, rebuild TensorFlow with the appropriate compiler flags.\n",
      "2023-09-23 18:33:02.814987: W tensorflow/compiler/xla/stream_executor/platform/default/dso_loader.cc:64] Could not load dynamic library 'libnvinfer.so.7'; dlerror: libnvinfer.so.7: cannot open shared object file: No such file or directory; LD_LIBRARY_PATH: /home/roronoa/.conda/envs/tf/lib/python3.7/site-packages/nvidia/cudnn/lib:/home/roronoa/.conda/envs/tf/lib/:\n",
      "2023-09-23 18:33:02.815286: W tensorflow/compiler/xla/stream_executor/platform/default/dso_loader.cc:64] Could not load dynamic library 'libnvinfer_plugin.so.7'; dlerror: libnvinfer_plugin.so.7: cannot open shared object file: No such file or directory; LD_LIBRARY_PATH: /home/roronoa/.conda/envs/tf/lib/python3.7/site-packages/nvidia/cudnn/lib:/home/roronoa/.conda/envs/tf/lib/:\n",
      "2023-09-23 18:33:02.815299: W tensorflow/compiler/tf2tensorrt/utils/py_utils.cc:38] TF-TRT Warning: Cannot dlopen some TensorRT libraries. If you would like to use Nvidia GPU with TensorRT, please make sure the missing libraries mentioned above are installed properly.\n"
     ]
    }
   ],
   "source": [
    "import os\n",
    "import numpy as np\n",
    "import tensorflow as tf\n",
    "from tensorflow.keras.preprocessing.image import ImageDataGenerator\n",
    "from sklearn.metrics import classification_report, accuracy_score\n",
    "from tensorflow.keras.models import Sequential\n",
    "from tensorflow.keras.layers import Conv2D, MaxPooling2D, Flatten, Dense, BatchNormalization, Dropout"
   ]
  },
  {
   "cell_type": "code",
   "execution_count": 2,
   "id": "0e2587b8",
   "metadata": {},
   "outputs": [],
   "source": [
    "dataset_dir = 'Dataset'"
   ]
  },
  {
   "cell_type": "code",
   "execution_count": 3,
   "id": "3359523e",
   "metadata": {},
   "outputs": [],
   "source": [
    "img_height, img_width = 150, 150\n",
    "batch_size = 32"
   ]
  },
  {
   "cell_type": "code",
   "execution_count": 4,
   "id": "1f75548b",
   "metadata": {},
   "outputs": [],
   "source": [
    "datagen = ImageDataGenerator(\n",
    "    rescale=1./255,            # Normalize pixel values to [0, 1]\n",
    "    validation_split=0.2,      # Split dataset into training (80%) and validation (20%)\n",
    "    rotation_range=20,         # Randomly rotate images by up to 20 degrees\n",
    "    width_shift_range=0.2,     # Randomly shift the width of images\n",
    "    height_shift_range=0.2,    # Randomly shift the height of images\n",
    "    horizontal_flip=True      # Randomly flip images horizontally\n",
    ")"
   ]
  },
  {
   "cell_type": "code",
   "execution_count": 5,
   "id": "964c0e3e",
   "metadata": {},
   "outputs": [
    {
     "name": "stdout",
     "output_type": "stream",
     "text": [
      "Found 1263 images belonging to 3 classes.\n"
     ]
    }
   ],
   "source": [
    "train_generator = datagen.flow_from_directory(\n",
    "    dataset_dir,\n",
    "    target_size=(img_height, img_width),\n",
    "    batch_size=batch_size,\n",
    "    class_mode='categorical',  # Three or more classes\n",
    "    subset='training'           # Specify 'training' for the training dataset\n",
    ")"
   ]
  },
  {
   "cell_type": "code",
   "execution_count": 6,
   "id": "b89db8bd",
   "metadata": {},
   "outputs": [
    {
     "name": "stdout",
     "output_type": "stream",
     "text": [
      "Found 315 images belonging to 3 classes.\n"
     ]
    }
   ],
   "source": [
    "validation_generator = datagen.flow_from_directory(\n",
    "    dataset_dir,\n",
    "    target_size=(img_height, img_width),\n",
    "    batch_size=batch_size,\n",
    "    class_mode='categorical',  # Three or more classes\n",
    "    subset='validation'         # Specify 'validation' for the validation dataset\n",
    ")"
   ]
  },
  {
   "cell_type": "code",
   "execution_count": 7,
   "id": "c53630e9",
   "metadata": {},
   "outputs": [
    {
     "name": "stderr",
     "output_type": "stream",
     "text": [
      "2023-09-23 18:33:04.336702: I tensorflow/compiler/xla/stream_executor/cuda/cuda_gpu_executor.cc:981] successful NUMA node read from SysFS had negative value (-1), but there must be at least one NUMA node, so returning NUMA node zero\n",
      "2023-09-23 18:33:04.364289: I tensorflow/compiler/xla/stream_executor/cuda/cuda_gpu_executor.cc:981] successful NUMA node read from SysFS had negative value (-1), but there must be at least one NUMA node, so returning NUMA node zero\n",
      "2023-09-23 18:33:04.364592: I tensorflow/compiler/xla/stream_executor/cuda/cuda_gpu_executor.cc:981] successful NUMA node read from SysFS had negative value (-1), but there must be at least one NUMA node, so returning NUMA node zero\n",
      "2023-09-23 18:33:04.365577: I tensorflow/core/platform/cpu_feature_guard.cc:193] This TensorFlow binary is optimized with oneAPI Deep Neural Network Library (oneDNN) to use the following CPU instructions in performance-critical operations:  AVX2 FMA\n",
      "To enable them in other operations, rebuild TensorFlow with the appropriate compiler flags.\n",
      "2023-09-23 18:33:04.366601: I tensorflow/compiler/xla/stream_executor/cuda/cuda_gpu_executor.cc:981] successful NUMA node read from SysFS had negative value (-1), but there must be at least one NUMA node, so returning NUMA node zero\n",
      "2023-09-23 18:33:04.366818: I tensorflow/compiler/xla/stream_executor/cuda/cuda_gpu_executor.cc:981] successful NUMA node read from SysFS had negative value (-1), but there must be at least one NUMA node, so returning NUMA node zero\n",
      "2023-09-23 18:33:04.366998: I tensorflow/compiler/xla/stream_executor/cuda/cuda_gpu_executor.cc:981] successful NUMA node read from SysFS had negative value (-1), but there must be at least one NUMA node, so returning NUMA node zero\n",
      "2023-09-23 18:33:04.442973: I tensorflow/compiler/xla/stream_executor/cuda/cuda_gpu_executor.cc:981] successful NUMA node read from SysFS had negative value (-1), but there must be at least one NUMA node, so returning NUMA node zero\n",
      "2023-09-23 18:33:04.443236: I tensorflow/compiler/xla/stream_executor/cuda/cuda_gpu_executor.cc:981] successful NUMA node read from SysFS had negative value (-1), but there must be at least one NUMA node, so returning NUMA node zero\n",
      "2023-09-23 18:33:04.443451: I tensorflow/compiler/xla/stream_executor/cuda/cuda_gpu_executor.cc:981] successful NUMA node read from SysFS had negative value (-1), but there must be at least one NUMA node, so returning NUMA node zero\n",
      "2023-09-23 18:33:04.443598: I tensorflow/core/common_runtime/gpu/gpu_device.cc:1613] Created device /job:localhost/replica:0/task:0/device:GPU:0 with 2287 MB memory:  -> device: 0, name: NVIDIA GeForce RTX 3050 Laptop GPU, pci bus id: 0000:01:00.0, compute capability: 8.6\n"
     ]
    }
   ],
   "source": [
    "model = Sequential([\n",
    "    Conv2D(32, (3, 3), activation='relu', input_shape=(img_height, img_width, 3)),\n",
    "    MaxPooling2D(2, 2),\n",
    "    BatchNormalization(),\n",
    "    \n",
    "    Conv2D(64, (3, 3), activation='relu'),\n",
    "    MaxPooling2D(2, 2),\n",
    "    BatchNormalization(),\n",
    "    \n",
    "    Conv2D(128, (3, 3), activation='relu'),\n",
    "    MaxPooling2D(2, 2),\n",
    "    BatchNormalization(),\n",
    "    \n",
    "    Flatten(),\n",
    "    Dense(256, activation='relu'),\n",
    "    Dropout(0.5),  # Add dropout for regularization\n",
    "    Dense(3, activation='softmax')  # Three classes\n",
    "])"
   ]
  },
  {
   "cell_type": "code",
   "execution_count": 8,
   "id": "107aa4cf",
   "metadata": {},
   "outputs": [],
   "source": [
    "model.compile(optimizer='adam',\n",
    "              loss='categorical_crossentropy',\n",
    "              metrics=['accuracy'])"
   ]
  },
  {
   "cell_type": "code",
   "execution_count": 9,
   "id": "c4ac5c66",
   "metadata": {},
   "outputs": [
    {
     "name": "stdout",
     "output_type": "stream",
     "text": [
      "Epoch 1/50\n"
     ]
    },
    {
     "name": "stderr",
     "output_type": "stream",
     "text": [
      "2023-09-23 18:33:06.130475: I tensorflow/compiler/xla/stream_executor/cuda/cuda_dnn.cc:428] Loaded cuDNN version 8500\n",
      "2023-09-23 18:33:06.476344: I tensorflow/tsl/platform/default/subprocess.cc:304] Start cannot spawn child process: No such file or directory\n",
      "2023-09-23 18:33:06.801565: I tensorflow/compiler/xla/stream_executor/cuda/cuda_blas.cc:630] TensorFloat-32 will be used for the matrix multiplication. This will only be logged once.\n",
      "2023-09-23 18:33:06.832701: I tensorflow/compiler/xla/service/service.cc:173] XLA service 0x7f746c03aef0 initialized for platform CUDA (this does not guarantee that XLA will be used). Devices:\n",
      "2023-09-23 18:33:06.832730: I tensorflow/compiler/xla/service/service.cc:181]   StreamExecutor device (0): NVIDIA GeForce RTX 3050 Laptop GPU, Compute Capability 8.6\n",
      "2023-09-23 18:33:06.837136: I tensorflow/compiler/mlir/tensorflow/utils/dump_mlir_util.cc:268] disabling MLIR crash reproducer, set env var `MLIR_CRASH_REPRODUCER_DIRECTORY` to enable.\n",
      "2023-09-23 18:33:06.901259: I tensorflow/tsl/platform/default/subprocess.cc:304] Start cannot spawn child process: No such file or directory\n",
      "2023-09-23 18:33:06.938065: I tensorflow/compiler/jit/xla_compilation_cache.cc:477] Compiled cluster using XLA!  This line is logged at most once for the lifetime of the process.\n"
     ]
    },
    {
     "name": "stdout",
     "output_type": "stream",
     "text": [
      "40/40 [==============================] - 13s 253ms/step - loss: 6.6922 - accuracy: 0.5170 - val_loss: 2.3334 - val_accuracy: 0.2000\n",
      "Epoch 2/50\n",
      "40/40 [==============================] - 9s 213ms/step - loss: 3.6459 - accuracy: 0.5764 - val_loss: 2.3357 - val_accuracy: 0.2095\n",
      "Epoch 3/50\n",
      "40/40 [==============================] - 8s 211ms/step - loss: 2.1614 - accuracy: 0.5914 - val_loss: 3.7348 - val_accuracy: 0.1841\n",
      "Epoch 4/50\n",
      "40/40 [==============================] - 8s 213ms/step - loss: 2.3379 - accuracy: 0.6017 - val_loss: 1.7306 - val_accuracy: 0.2254\n",
      "Epoch 5/50\n",
      "40/40 [==============================] - 8s 213ms/step - loss: 1.8160 - accuracy: 0.5978 - val_loss: 1.8004 - val_accuracy: 0.2730\n",
      "Epoch 6/50\n",
      "40/40 [==============================] - 9s 215ms/step - loss: 1.7761 - accuracy: 0.6136 - val_loss: 1.9418 - val_accuracy: 0.2571\n",
      "Epoch 7/50\n",
      "40/40 [==============================] - 8s 212ms/step - loss: 1.5065 - accuracy: 0.6334 - val_loss: 3.4564 - val_accuracy: 0.2413\n",
      "Epoch 8/50\n",
      "40/40 [==============================] - 8s 205ms/step - loss: 1.3614 - accuracy: 0.6477 - val_loss: 1.2877 - val_accuracy: 0.3587\n",
      "Epoch 9/50\n",
      "40/40 [==============================] - 8s 200ms/step - loss: 1.0540 - accuracy: 0.6390 - val_loss: 1.1804 - val_accuracy: 0.3810\n",
      "Epoch 10/50\n",
      "40/40 [==============================] - 8s 202ms/step - loss: 1.2035 - accuracy: 0.6461 - val_loss: 1.6184 - val_accuracy: 0.2603\n",
      "Epoch 11/50\n",
      "40/40 [==============================] - 8s 197ms/step - loss: 1.0330 - accuracy: 0.6540 - val_loss: 1.4209 - val_accuracy: 0.3365\n",
      "Epoch 12/50\n",
      "40/40 [==============================] - 8s 195ms/step - loss: 0.9668 - accuracy: 0.6643 - val_loss: 1.4548 - val_accuracy: 0.3206\n",
      "Epoch 13/50\n",
      "40/40 [==============================] - 8s 197ms/step - loss: 1.0278 - accuracy: 0.6667 - val_loss: 1.0038 - val_accuracy: 0.5937\n",
      "Epoch 14/50\n",
      "40/40 [==============================] - 8s 195ms/step - loss: 0.8929 - accuracy: 0.6833 - val_loss: 1.2635 - val_accuracy: 0.4413\n",
      "Epoch 15/50\n",
      "40/40 [==============================] - 8s 197ms/step - loss: 0.8893 - accuracy: 0.6793 - val_loss: 1.0531 - val_accuracy: 0.5683\n",
      "Epoch 16/50\n",
      "40/40 [==============================] - 8s 204ms/step - loss: 0.8386 - accuracy: 0.6793 - val_loss: 0.8749 - val_accuracy: 0.6286\n",
      "Epoch 17/50\n",
      "40/40 [==============================] - 8s 205ms/step - loss: 0.8280 - accuracy: 0.6619 - val_loss: 0.8012 - val_accuracy: 0.6698\n",
      "Epoch 18/50\n",
      "40/40 [==============================] - 8s 206ms/step - loss: 0.7998 - accuracy: 0.6975 - val_loss: 0.8545 - val_accuracy: 0.6444\n",
      "Epoch 19/50\n",
      "40/40 [==============================] - 8s 208ms/step - loss: 0.7901 - accuracy: 0.6793 - val_loss: 0.7643 - val_accuracy: 0.6825\n",
      "Epoch 20/50\n",
      "40/40 [==============================] - 8s 205ms/step - loss: 0.8369 - accuracy: 0.6936 - val_loss: 0.7929 - val_accuracy: 0.6762\n",
      "Epoch 21/50\n",
      "40/40 [==============================] - 8s 206ms/step - loss: 0.7738 - accuracy: 0.6904 - val_loss: 0.7828 - val_accuracy: 0.7270\n",
      "Epoch 22/50\n",
      "40/40 [==============================] - 8s 205ms/step - loss: 0.7193 - accuracy: 0.7134 - val_loss: 0.8128 - val_accuracy: 0.6921\n",
      "Epoch 23/50\n",
      "40/40 [==============================] - 8s 209ms/step - loss: 0.7250 - accuracy: 0.7229 - val_loss: 0.7532 - val_accuracy: 0.6984\n",
      "Epoch 24/50\n",
      "40/40 [==============================] - 8s 206ms/step - loss: 0.7424 - accuracy: 0.7181 - val_loss: 0.7036 - val_accuracy: 0.7111\n",
      "Epoch 25/50\n",
      "40/40 [==============================] - 8s 208ms/step - loss: 0.7089 - accuracy: 0.6960 - val_loss: 0.7945 - val_accuracy: 0.7175\n",
      "Epoch 26/50\n",
      "40/40 [==============================] - 8s 206ms/step - loss: 0.7572 - accuracy: 0.6896 - val_loss: 0.7249 - val_accuracy: 0.6984\n",
      "Epoch 27/50\n",
      "40/40 [==============================] - 8s 209ms/step - loss: 0.6796 - accuracy: 0.7158 - val_loss: 0.6923 - val_accuracy: 0.7333\n",
      "Epoch 28/50\n",
      "40/40 [==============================] - 8s 206ms/step - loss: 0.6941 - accuracy: 0.7229 - val_loss: 0.6983 - val_accuracy: 0.7079\n",
      "Epoch 29/50\n",
      "40/40 [==============================] - 8s 210ms/step - loss: 0.6742 - accuracy: 0.7340 - val_loss: 0.6842 - val_accuracy: 0.7111\n",
      "Epoch 30/50\n",
      "40/40 [==============================] - 8s 204ms/step - loss: 0.7048 - accuracy: 0.7110 - val_loss: 0.7217 - val_accuracy: 0.6889\n",
      "Epoch 31/50\n",
      "40/40 [==============================] - 8s 208ms/step - loss: 0.7401 - accuracy: 0.6999 - val_loss: 0.7602 - val_accuracy: 0.6603\n",
      "Epoch 32/50\n",
      "40/40 [==============================] - 8s 204ms/step - loss: 0.7142 - accuracy: 0.7102 - val_loss: 0.6685 - val_accuracy: 0.7206\n",
      "Epoch 33/50\n",
      "40/40 [==============================] - 8s 206ms/step - loss: 0.7005 - accuracy: 0.7173 - val_loss: 0.8219 - val_accuracy: 0.7238\n",
      "Epoch 34/50\n",
      "40/40 [==============================] - 8s 209ms/step - loss: 0.6620 - accuracy: 0.7451 - val_loss: 0.7881 - val_accuracy: 0.7048\n",
      "Epoch 35/50\n",
      "40/40 [==============================] - 8s 210ms/step - loss: 0.6615 - accuracy: 0.7308 - val_loss: 0.7078 - val_accuracy: 0.7079\n",
      "Epoch 36/50\n",
      "40/40 [==============================] - 9s 236ms/step - loss: 0.6530 - accuracy: 0.7443 - val_loss: 0.6657 - val_accuracy: 0.7333\n",
      "Epoch 37/50\n",
      "40/40 [==============================] - 9s 224ms/step - loss: 0.7359 - accuracy: 0.7292 - val_loss: 0.7125 - val_accuracy: 0.7111\n",
      "Epoch 38/50\n",
      "40/40 [==============================] - 9s 226ms/step - loss: 0.6411 - accuracy: 0.7403 - val_loss: 0.6756 - val_accuracy: 0.7016\n",
      "Epoch 39/50\n",
      "40/40 [==============================] - 9s 227ms/step - loss: 0.6913 - accuracy: 0.7332 - val_loss: 0.6762 - val_accuracy: 0.7238\n",
      "Epoch 40/50\n",
      "40/40 [==============================] - 9s 221ms/step - loss: 0.6246 - accuracy: 0.7506 - val_loss: 0.6915 - val_accuracy: 0.7619\n",
      "Epoch 41/50\n",
      "40/40 [==============================] - 9s 235ms/step - loss: 0.6096 - accuracy: 0.7435 - val_loss: 0.6664 - val_accuracy: 0.7270\n",
      "Epoch 42/50\n",
      "40/40 [==============================] - 9s 217ms/step - loss: 0.6348 - accuracy: 0.7387 - val_loss: 0.7314 - val_accuracy: 0.7238\n",
      "Epoch 43/50\n",
      "40/40 [==============================] - 9s 225ms/step - loss: 0.6585 - accuracy: 0.7490 - val_loss: 0.6187 - val_accuracy: 0.7333\n",
      "Epoch 44/50\n",
      "40/40 [==============================] - 9s 225ms/step - loss: 0.6315 - accuracy: 0.7498 - val_loss: 0.7079 - val_accuracy: 0.7270\n",
      "Epoch 45/50\n",
      "40/40 [==============================] - 9s 228ms/step - loss: 0.6559 - accuracy: 0.7229 - val_loss: 0.7917 - val_accuracy: 0.6984\n",
      "Epoch 46/50\n",
      "40/40 [==============================] - 9s 216ms/step - loss: 0.6182 - accuracy: 0.7530 - val_loss: 0.7146 - val_accuracy: 0.7016\n",
      "Epoch 47/50\n",
      "40/40 [==============================] - 9s 220ms/step - loss: 0.6202 - accuracy: 0.7617 - val_loss: 0.7340 - val_accuracy: 0.7333\n",
      "Epoch 48/50\n",
      "40/40 [==============================] - 9s 223ms/step - loss: 0.6060 - accuracy: 0.7585 - val_loss: 0.6557 - val_accuracy: 0.7302\n",
      "Epoch 49/50\n",
      "40/40 [==============================] - 10s 245ms/step - loss: 0.5943 - accuracy: 0.7577 - val_loss: 0.7246 - val_accuracy: 0.6921\n",
      "Epoch 50/50\n",
      "40/40 [==============================] - 9s 230ms/step - loss: 0.5904 - accuracy: 0.7672 - val_loss: 0.6551 - val_accuracy: 0.7524\n"
     ]
    },
    {
     "data": {
      "text/plain": [
       "<keras.callbacks.History at 0x7f75a6b68e10>"
      ]
     },
     "execution_count": 9,
     "metadata": {},
     "output_type": "execute_result"
    }
   ],
   "source": [
    "epochs = 50  # Adjust the number of epochs as needed\n",
    "model.fit(train_generator, validation_data=validation_generator, epochs=epochs)"
   ]
  },
  {
   "cell_type": "code",
   "execution_count": 12,
   "id": "806d777b",
   "metadata": {},
   "outputs": [
    {
     "name": "stdout",
     "output_type": "stream",
     "text": [
      "10/10 [==============================] - 2s 172ms/step\n"
     ]
    }
   ],
   "source": [
    "validation_preds = model.predict(validation_generator)\n",
    "predicted_classes = np.argmax(validation_preds, axis=1)\n",
    "true_classes = validation_generator.classes"
   ]
  },
  {
   "cell_type": "code",
   "execution_count": 13,
   "id": "8cdee8a5",
   "metadata": {},
   "outputs": [
    {
     "name": "stdout",
     "output_type": "stream",
     "text": [
      "Accuracy: 0.49206349206349204\n",
      "F1 Score:\n",
      "              precision    recall  f1-score   support\n",
      "\n",
      "      benign       0.57      0.76      0.65       178\n",
      "   malignant       0.26      0.13      0.17        84\n",
      "      normal       0.24      0.15      0.19        53\n",
      "\n",
      "    accuracy                           0.49       315\n",
      "   macro avg       0.36      0.35      0.34       315\n",
      "weighted avg       0.43      0.49      0.45       315\n",
      "\n"
     ]
    }
   ],
   "source": [
    "accuracy = accuracy_score(true_classes, predicted_classes)\n",
    "f1_score = classification_report(true_classes, predicted_classes, target_names=train_generator.class_indices.keys())\n",
    "print(f\"Accuracy: {accuracy}\")\n",
    "print(f\"F1 Score:\\n{f1_score}\")"
   ]
  },
  {
   "cell_type": "code",
   "execution_count": null,
   "id": "374e1bef",
   "metadata": {},
   "outputs": [],
   "source": []
  }
 ],
 "metadata": {
  "kernelspec": {
   "display_name": "Python 3 (ipykernel)",
   "language": "python",
   "name": "python3"
  },
  "language_info": {
   "codemirror_mode": {
    "name": "ipython",
    "version": 3
   },
   "file_extension": ".py",
   "mimetype": "text/x-python",
   "name": "python",
   "nbconvert_exporter": "python",
   "pygments_lexer": "ipython3",
   "version": "3.7.5"
  }
 },
 "nbformat": 4,
 "nbformat_minor": 5
}
