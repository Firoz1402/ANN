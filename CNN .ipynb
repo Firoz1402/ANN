{
 "cells": [
  {
   "cell_type": "code",
   "execution_count": 20,
   "id": "cc9edcab",
   "metadata": {},
   "outputs": [],
   "source": [
    "import os\n",
    "import numpy as np\n",
    "import tensorflow as tf\n",
    "from tensorflow.keras.preprocessing.image import ImageDataGenerator\n",
    "from sklearn.metrics import classification_report, accuracy_score,f1_score\n",
    "from tensorflow.keras.models import Sequential\n",
    "from tensorflow.keras.layers import Conv2D, MaxPooling2D, Flatten, Dense, BatchNormalization, Dropout"
   ]
  },
  {
   "cell_type": "code",
   "execution_count": 3,
   "id": "0e2587b8",
   "metadata": {},
   "outputs": [],
   "source": [
    "dataset_train = 'Dataset/train'\n",
    "dataset_test = 'Dataset/test'"
   ]
  },
  {
   "cell_type": "code",
   "execution_count": 4,
   "id": "3359523e",
   "metadata": {},
   "outputs": [],
   "source": [
    "img_height, img_width = 150, 150\n",
    "batch_size = 32"
   ]
  },
  {
   "cell_type": "code",
   "execution_count": 5,
   "id": "1f75548b",
   "metadata": {},
   "outputs": [],
   "source": [
    "datagen = ImageDataGenerator(\n",
    "    rescale=1./255,            # Normalize pixel values to [0, 1]\n",
    "    validation_split=0.2,      # Split dataset into training (80%) and validation (20%)\n",
    "    rotation_range=20,         # Randomly rotate images by up to 20 degrees\n",
    "    width_shift_range=0.2,     # Randomly shift the width of images\n",
    "    height_shift_range=0.2,    # Randomly shift the height of images\n",
    "    shear_range=0.2,           # Apply shear transformations\n",
    "    zoom_range=0.2,            # Randomly zoom into images\n",
    "    horizontal_flip=True,      # Randomly flip images horizontally\n",
    "    fill_mode='nearest'        # Fill empty pixels using the nearest available pixel\n",
    ")"
   ]
  },
  {
   "cell_type": "code",
   "execution_count": 12,
   "id": "964c0e3e",
   "metadata": {},
   "outputs": [
    {
     "name": "stdout",
     "output_type": "stream",
     "text": [
      "Found 4187 images belonging to 2 classes.\n"
     ]
    }
   ],
   "source": [
    "train_generator = datagen.flow_from_directory(\n",
    "    dataset_train,\n",
    "    target_size=(img_height, img_width),\n",
    "    batch_size=batch_size,\n",
    "    class_mode='binary',  # Binary classification\n",
    "    subset='training'       # Specify 'training' for the training dataset\n",
    ")"
   ]
  },
  {
   "cell_type": "code",
   "execution_count": 13,
   "id": "b89db8bd",
   "metadata": {},
   "outputs": [
    {
     "name": "stdout",
     "output_type": "stream",
     "text": [
      "Found 1045 images belonging to 2 classes.\n"
     ]
    }
   ],
   "source": [
    "validation_generator = datagen.flow_from_directory(\n",
    "    dataset_train,\n",
    "    target_size=(img_height, img_width),\n",
    "    batch_size=batch_size,\n",
    "    class_mode='binary',  # Binary classification\n",
    "    subset='validation'     # Specify 'validation' for the validation dataset\n",
    ")"
   ]
  },
  {
   "cell_type": "code",
   "execution_count": 14,
   "id": "c53630e9",
   "metadata": {},
   "outputs": [
    {
     "name": "stderr",
     "output_type": "stream",
     "text": [
      "2023-09-26 12:02:47.650503: I tensorflow/compiler/xla/stream_executor/cuda/cuda_gpu_executor.cc:981] successful NUMA node read from SysFS had negative value (-1), but there must be at least one NUMA node, so returning NUMA node zero\n",
      "2023-09-26 12:02:47.818633: I tensorflow/compiler/xla/stream_executor/cuda/cuda_gpu_executor.cc:981] successful NUMA node read from SysFS had negative value (-1), but there must be at least one NUMA node, so returning NUMA node zero\n",
      "2023-09-26 12:02:47.818884: I tensorflow/compiler/xla/stream_executor/cuda/cuda_gpu_executor.cc:981] successful NUMA node read from SysFS had negative value (-1), but there must be at least one NUMA node, so returning NUMA node zero\n",
      "2023-09-26 12:02:47.819367: I tensorflow/core/platform/cpu_feature_guard.cc:193] This TensorFlow binary is optimized with oneAPI Deep Neural Network Library (oneDNN) to use the following CPU instructions in performance-critical operations:  AVX2 FMA\n",
      "To enable them in other operations, rebuild TensorFlow with the appropriate compiler flags.\n",
      "2023-09-26 12:02:47.820087: I tensorflow/compiler/xla/stream_executor/cuda/cuda_gpu_executor.cc:981] successful NUMA node read from SysFS had negative value (-1), but there must be at least one NUMA node, so returning NUMA node zero\n",
      "2023-09-26 12:02:47.820291: I tensorflow/compiler/xla/stream_executor/cuda/cuda_gpu_executor.cc:981] successful NUMA node read from SysFS had negative value (-1), but there must be at least one NUMA node, so returning NUMA node zero\n",
      "2023-09-26 12:02:47.820464: I tensorflow/compiler/xla/stream_executor/cuda/cuda_gpu_executor.cc:981] successful NUMA node read from SysFS had negative value (-1), but there must be at least one NUMA node, so returning NUMA node zero\n",
      "2023-09-26 12:02:47.877924: I tensorflow/compiler/xla/stream_executor/cuda/cuda_gpu_executor.cc:981] successful NUMA node read from SysFS had negative value (-1), but there must be at least one NUMA node, so returning NUMA node zero\n",
      "2023-09-26 12:02:47.878173: I tensorflow/compiler/xla/stream_executor/cuda/cuda_gpu_executor.cc:981] successful NUMA node read from SysFS had negative value (-1), but there must be at least one NUMA node, so returning NUMA node zero\n",
      "2023-09-26 12:02:47.878348: I tensorflow/compiler/xla/stream_executor/cuda/cuda_gpu_executor.cc:981] successful NUMA node read from SysFS had negative value (-1), but there must be at least one NUMA node, so returning NUMA node zero\n",
      "2023-09-26 12:02:47.878502: I tensorflow/core/common_runtime/gpu/gpu_device.cc:1613] Created device /job:localhost/replica:0/task:0/device:GPU:0 with 2287 MB memory:  -> device: 0, name: NVIDIA GeForce RTX 3050 Laptop GPU, pci bus id: 0000:01:00.0, compute capability: 8.6\n"
     ]
    }
   ],
   "source": [
    "model = Sequential([\n",
    "    Conv2D(32, (3, 3), activation='relu', input_shape=(img_height, img_width, 3)),\n",
    "    MaxPooling2D(2, 2),\n",
    "    \n",
    "    Conv2D(64, (3, 3), activation='relu'),\n",
    "    MaxPooling2D(2, 2),\n",
    "    \n",
    "    Conv2D(128, (3, 3), activation='relu'),\n",
    "    MaxPooling2D(2, 2),\n",
    "    \n",
    "    Conv2D(256, (3, 3), activation='relu'),\n",
    "    MaxPooling2D(2, 2),\n",
    "    \n",
    "    Flatten(),\n",
    "    Dense(512, activation='relu'),\n",
    "    Dropout(0.5),  # Add dropout for regularization\n",
    "    Dense(256, activation='relu'),\n",
    "    Dropout(0.5),  # Add dropout for regularization\n",
    "    Dense(1, activation='sigmoid')  # Binary classification, so use 'sigmoid' activation\n",
    "])\n"
   ]
  },
  {
   "cell_type": "code",
   "execution_count": 15,
   "id": "107aa4cf",
   "metadata": {},
   "outputs": [],
   "source": [
    "model.compile(optimizer='adam',\n",
    "              loss='binary_crossentropy',  # Binary classification loss\n",
    "              metrics=['accuracy'])"
   ]
  },
  {
   "cell_type": "code",
   "execution_count": 16,
   "id": "c4ac5c66",
   "metadata": {},
   "outputs": [
    {
     "name": "stdout",
     "output_type": "stream",
     "text": [
      "Epoch 1/20\n"
     ]
    },
    {
     "name": "stderr",
     "output_type": "stream",
     "text": [
      "2023-09-26 12:02:57.686848: I tensorflow/compiler/xla/stream_executor/cuda/cuda_dnn.cc:428] Loaded cuDNN version 8500\n",
      "2023-09-26 12:02:58.382012: I tensorflow/tsl/platform/default/subprocess.cc:304] Start cannot spawn child process: No such file or directory\n",
      "2023-09-26 12:02:58.711283: I tensorflow/compiler/xla/stream_executor/cuda/cuda_blas.cc:630] TensorFloat-32 will be used for the matrix multiplication. This will only be logged once.\n",
      "2023-09-26 12:02:58.806640: I tensorflow/compiler/xla/service/service.cc:173] XLA service 0x7f0367225340 initialized for platform CUDA (this does not guarantee that XLA will be used). Devices:\n",
      "2023-09-26 12:02:58.806683: I tensorflow/compiler/xla/service/service.cc:181]   StreamExecutor device (0): NVIDIA GeForce RTX 3050 Laptop GPU, Compute Capability 8.6\n",
      "2023-09-26 12:02:58.810930: I tensorflow/compiler/mlir/tensorflow/utils/dump_mlir_util.cc:268] disabling MLIR crash reproducer, set env var `MLIR_CRASH_REPRODUCER_DIRECTORY` to enable.\n",
      "2023-09-26 12:02:58.886269: I tensorflow/tsl/platform/default/subprocess.cc:304] Start cannot spawn child process: No such file or directory\n",
      "2023-09-26 12:02:58.923390: I tensorflow/compiler/jit/xla_compilation_cache.cc:477] Compiled cluster using XLA!  This line is logged at most once for the lifetime of the process.\n"
     ]
    },
    {
     "name": "stdout",
     "output_type": "stream",
     "text": [
      "131/131 [==============================] - 48s 335ms/step - loss: 0.5519 - accuracy: 0.7440 - val_loss: 0.6139 - val_accuracy: 0.6545\n",
      "Epoch 2/20\n",
      "131/131 [==============================] - 41s 316ms/step - loss: 0.4386 - accuracy: 0.7736 - val_loss: 0.4772 - val_accuracy: 0.7388\n",
      "Epoch 3/20\n",
      "131/131 [==============================] - 39s 301ms/step - loss: 0.3581 - accuracy: 0.8335 - val_loss: 0.3723 - val_accuracy: 0.8115\n",
      "Epoch 4/20\n",
      "131/131 [==============================] - 40s 306ms/step - loss: 0.2932 - accuracy: 0.8746 - val_loss: 0.3009 - val_accuracy: 0.8689\n",
      "Epoch 5/20\n",
      "131/131 [==============================] - 39s 300ms/step - loss: 0.2773 - accuracy: 0.8791 - val_loss: 0.3002 - val_accuracy: 0.8622\n",
      "Epoch 6/20\n",
      "131/131 [==============================] - 41s 312ms/step - loss: 0.2640 - accuracy: 0.8846 - val_loss: 0.2969 - val_accuracy: 0.8718\n",
      "Epoch 7/20\n",
      "131/131 [==============================] - 40s 306ms/step - loss: 0.2497 - accuracy: 0.8942 - val_loss: 0.2806 - val_accuracy: 0.8842\n",
      "Epoch 8/20\n",
      "131/131 [==============================] - 41s 313ms/step - loss: 0.2392 - accuracy: 0.8944 - val_loss: 0.2460 - val_accuracy: 0.8871\n",
      "Epoch 9/20\n",
      "131/131 [==============================] - 42s 318ms/step - loss: 0.2222 - accuracy: 0.9100 - val_loss: 0.2535 - val_accuracy: 0.8880\n",
      "Epoch 10/20\n",
      "131/131 [==============================] - 40s 302ms/step - loss: 0.2448 - accuracy: 0.8999 - val_loss: 0.2561 - val_accuracy: 0.8967\n",
      "Epoch 11/20\n",
      "131/131 [==============================] - 39s 301ms/step - loss: 0.2304 - accuracy: 0.9037 - val_loss: 0.2347 - val_accuracy: 0.8995\n",
      "Epoch 12/20\n",
      "131/131 [==============================] - 40s 303ms/step - loss: 0.2143 - accuracy: 0.9131 - val_loss: 0.1963 - val_accuracy: 0.9187\n",
      "Epoch 13/20\n",
      "131/131 [==============================] - 40s 306ms/step - loss: 0.2122 - accuracy: 0.9092 - val_loss: 0.1964 - val_accuracy: 0.9244\n",
      "Epoch 14/20\n",
      "131/131 [==============================] - 41s 313ms/step - loss: 0.2040 - accuracy: 0.9190 - val_loss: 0.2199 - val_accuracy: 0.9024\n",
      "Epoch 15/20\n",
      "131/131 [==============================] - 42s 323ms/step - loss: 0.1916 - accuracy: 0.9250 - val_loss: 0.2154 - val_accuracy: 0.9072\n",
      "Epoch 16/20\n",
      "131/131 [==============================] - 42s 317ms/step - loss: 0.1992 - accuracy: 0.9155 - val_loss: 0.2889 - val_accuracy: 0.8938\n",
      "Epoch 17/20\n",
      "131/131 [==============================] - 42s 321ms/step - loss: 0.1891 - accuracy: 0.9207 - val_loss: 0.2577 - val_accuracy: 0.8813\n",
      "Epoch 18/20\n",
      "131/131 [==============================] - 39s 296ms/step - loss: 0.1784 - accuracy: 0.9293 - val_loss: 0.2128 - val_accuracy: 0.9110\n",
      "Epoch 19/20\n",
      "131/131 [==============================] - 38s 291ms/step - loss: 0.1886 - accuracy: 0.9243 - val_loss: 0.1915 - val_accuracy: 0.9301\n",
      "Epoch 20/20\n",
      "131/131 [==============================] - 39s 297ms/step - loss: 0.1756 - accuracy: 0.9300 - val_loss: 0.1620 - val_accuracy: 0.9321\n"
     ]
    },
    {
     "data": {
      "text/plain": [
       "<keras.callbacks.History at 0x7f06209b8510>"
      ]
     },
     "execution_count": 16,
     "metadata": {},
     "output_type": "execute_result"
    }
   ],
   "source": [
    "epochs = 20  # Adjust the number of epochs as needed\n",
    "model.fit(train_generator, validation_data=validation_generator, epochs=epochs)"
   ]
  },
  {
   "cell_type": "code",
   "execution_count": 17,
   "id": "806d777b",
   "metadata": {},
   "outputs": [
    {
     "name": "stdout",
     "output_type": "stream",
     "text": [
      "Found 624 images belonging to 2 classes.\n",
      "20/20 [==============================] - 3s 135ms/step\n"
     ]
    }
   ],
   "source": [
    "test_datagen = ImageDataGenerator(rescale=1./255)\n",
    "test_generator = test_datagen.flow_from_directory(\n",
    "    dataset_test,  # Replace with the path to your test dataset directory\n",
    "    target_size=(img_height, img_width),\n",
    "    batch_size=batch_size,\n",
    "    class_mode='binary',  # Binary classification\n",
    "    shuffle=False  # Do not shuffle the data for evaluation\n",
    ")\n",
    "test_preds = model.predict(test_generator)\n",
    "predicted_classes = np.round(test_preds).flatten()  # Convert probabilities to binary predictions\n",
    "\n",
    "true_classes = test_generator.classes"
   ]
  },
  {
   "cell_type": "code",
   "execution_count": 22,
   "id": "8cdee8a5",
   "metadata": {},
   "outputs": [
    {
     "name": "stdout",
     "output_type": "stream",
     "text": [
      "Accuracy: 0.8862179487179487\n",
      "F1 Score:0.9109159347553325\n",
      "Classification Report:\n",
      "              precision    recall  f1-score   support\n",
      "\n",
      "           0       0.88      0.81      0.84       234\n",
      "           1       0.89      0.93      0.91       390\n",
      "\n",
      "    accuracy                           0.89       624\n",
      "   macro avg       0.88      0.87      0.88       624\n",
      "weighted avg       0.89      0.89      0.89       624\n",
      "\n"
     ]
    }
   ],
   "source": [
    "accuracy = accuracy_score(true_classes, predicted_classes)\n",
    "clr = classification_report(true_classes, predicted_classes)\n",
    "f1 = f1_score(true_classes, predicted_classes)\n",
    "print(f\"Accuracy: {accuracy}\")\n",
    "print(f\"F1 Score:{f1}\")\n",
    "print(f\"Classification Report:\\n{clr}\")"
   ]
  },
  {
   "cell_type": "code",
   "execution_count": null,
   "id": "374e1bef",
   "metadata": {},
   "outputs": [],
   "source": []
  }
 ],
 "metadata": {
  "kernelspec": {
   "display_name": "Python 3 (ipykernel)",
   "language": "python",
   "name": "python3"
  },
  "language_info": {
   "codemirror_mode": {
    "name": "ipython",
    "version": 3
   },
   "file_extension": ".py",
   "mimetype": "text/x-python",
   "name": "python",
   "nbconvert_exporter": "python",
   "pygments_lexer": "ipython3",
   "version": "3.7.5"
  }
 },
 "nbformat": 4,
 "nbformat_minor": 5
}
